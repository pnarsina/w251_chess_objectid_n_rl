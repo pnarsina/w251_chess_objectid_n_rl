{
 "cells": [
  {
   "cell_type": "code",
   "execution_count": 7,
   "metadata": {},
   "outputs": [],
   "source": [
    "import os\n",
    "import shutil\n",
    "\n",
    "image_path = 'c:/prabhu/edu/code/w251/myrepo/chess_project/images/'\n",
    "label_path = 'c:/prabhu/edu/code/w251/myrepo/chess_project/data/tiny/labels/'\n",
    "new_image_path = 'c:/prabhu/edu/code/w251/myrepo/chess_project/data/tiny/images/'\n",
    "\n",
    "image_files = [] # whatever you want to put specifically.\n",
    "\n",
    "image_files += [file for file in os.listdir(image_path) ] # for adding your image files\n"
   ]
  },
  {
   "cell_type": "code",
   "execution_count": 8,
   "metadata": {},
   "outputs": [
    {
     "name": "stdout",
     "output_type": "stream",
     "text": [
      "['2021_07_06_08_57_20_PMframe0.', '2021_07_06_08_57_20_PMframe0.', '2021_07_06_08_57_20_PMframe0', '2021_07_06_08_57_20_PMframe0', '2021_07_06_08_57_48_PMframe1.', '2021_07_06_08_57_53_PMframe2.', '2021_07_06_08_58_07_PMframe3.', '2021_07_06_08_58_11_PMframe4.', '2021_07_06_08_58_17_PMframe5.', '2021_07_06_08_59_16_PMframe6.']\n"
     ]
    }
   ],
   "source": [
    "img_fie_noext = [file[0:len(file)-4]  for file  in image_files]\n",
    "\n",
    "print(img_fie_noext[0:10])\n"
   ]
  },
  {
   "cell_type": "code",
   "execution_count": 9,
   "metadata": {},
   "outputs": [],
   "source": [
    "label_files =[]\n",
    "label_files += [file for file in os.listdir(label_path) ] # for adding your image files"
   ]
  },
  {
   "cell_type": "code",
   "execution_count": 16,
   "metadata": {},
   "outputs": [
    {
     "name": "stdout",
     "output_type": "stream",
     "text": [
      "['2021_07_06_08_57_20_PMframe0', '2021_07_06_08_58_07_PMframe3', '2021_07_06_08_59_16_PMframe6', '2021_07_06_09_06_45_PMframe26', '2021_07_06_09_11_34_PMframe31']\n",
      "c:/prabhu/edu/code/w251/myrepo/chess_project/data/tiny/images/ c:/prabhu/edu/code/w251/myrepo/chess_project/images/\n"
     ]
    }
   ],
   "source": [
    "print([file[0:len(file)-4]  for file  in label_files[:5]])\n",
    "print(new_image_path, image_path)"
   ]
  },
  {
   "cell_type": "code",
   "execution_count": 22,
   "metadata": {},
   "outputs": [
    {
     "name": "stdout",
     "output_type": "stream",
     "text": [
      "matched c:/prabhu/edu/code/w251/myrepo/chess_project/images/2021_07_06_08_57_20_PMframe0.jpeg\n",
      "cp  c:/prabhu/edu/code/w251/myrepo/chess_project/images/2021_07_06_08_58_07_PMframe3.jpeg c:/prabhu/edu/code/w251/myrepo/chess_project/data/tiny/images/2021_07_06_08_58_07_PMframe3.jpeg\n",
      "cp  c:/prabhu/edu/code/w251/myrepo/chess_project/images/2021_07_06_08_59_16_PMframe6.jpeg c:/prabhu/edu/code/w251/myrepo/chess_project/data/tiny/images/2021_07_06_08_59_16_PMframe6.jpeg\n",
      "cp  c:/prabhu/edu/code/w251/myrepo/chess_project/images/2021_07_06_09_06_45_PMframe26.jpeg c:/prabhu/edu/code/w251/myrepo/chess_project/data/tiny/images/2021_07_06_09_06_45_PMframe26.jpeg\n",
      "cp  c:/prabhu/edu/code/w251/myrepo/chess_project/images/2021_07_06_09_11_34_PMframe31.jpeg c:/prabhu/edu/code/w251/myrepo/chess_project/data/tiny/images/2021_07_06_09_11_34_PMframe31.jpeg\n",
      "cp  c:/prabhu/edu/code/w251/myrepo/chess_project/images/2021_07_06_09_12_08_PMframe34.jpeg c:/prabhu/edu/code/w251/myrepo/chess_project/data/tiny/images/2021_07_06_09_12_08_PMframe34.jpeg\n",
      "cp  c:/prabhu/edu/code/w251/myrepo/chess_project/images/2021_07_06_09_14_45_PMframe41.jpeg c:/prabhu/edu/code/w251/myrepo/chess_project/data/tiny/images/2021_07_06_09_14_45_PMframe41.jpeg\n",
      "cp  c:/prabhu/edu/code/w251/myrepo/chess_project/images/2021_07_06_09_17_34_PMframe48.jpeg c:/prabhu/edu/code/w251/myrepo/chess_project/data/tiny/images/2021_07_06_09_17_34_PMframe48.jpeg\n",
      "cp  c:/prabhu/edu/code/w251/myrepo/chess_project/images/2021_07_06_09_19_34_PMframe59.jpeg c:/prabhu/edu/code/w251/myrepo/chess_project/data/tiny/images/2021_07_06_09_19_34_PMframe59.jpeg\n",
      "cp  c:/prabhu/edu/code/w251/myrepo/chess_project/images/2021_07_06_09_30_50_PMframe102.jpeg c:/prabhu/edu/code/w251/myrepo/chess_project/data/tiny/images/2021_07_06_09_30_50_PMframe102.jpeg\n",
      "cp  c:/prabhu/edu/code/w251/myrepo/chess_project/images/2021_07_07_09_19_00_PMframe0.jpeg c:/prabhu/edu/code/w251/myrepo/chess_project/data/tiny/images/2021_07_07_09_19_00_PMframe0.jpeg\n",
      "cp  c:/prabhu/edu/code/w251/myrepo/chess_project/images/2021_07_07_09_21_27_PMframe8.jpeg c:/prabhu/edu/code/w251/myrepo/chess_project/data/tiny/images/2021_07_07_09_21_27_PMframe8.jpeg\n",
      "cp  c:/prabhu/edu/code/w251/myrepo/chess_project/images/2021_07_07_09_24_05_PMframe17.jpeg c:/prabhu/edu/code/w251/myrepo/chess_project/data/tiny/images/2021_07_07_09_24_05_PMframe17.jpeg\n",
      "cp  c:/prabhu/edu/code/w251/myrepo/chess_project/images/2021_07_07_09_26_06_PMframe24.jpeg c:/prabhu/edu/code/w251/myrepo/chess_project/data/tiny/images/2021_07_07_09_26_06_PMframe24.jpeg\n",
      "cp  c:/prabhu/edu/code/w251/myrepo/chess_project/images/2021_07_07_09_30_53_PMframe34.jpeg c:/prabhu/edu/code/w251/myrepo/chess_project/data/tiny/images/2021_07_07_09_30_53_PMframe34.jpeg\n",
      "cp  c:/prabhu/edu/code/w251/myrepo/chess_project/images/2021_07_07_09_35_20_PMframe53.jpeg c:/prabhu/edu/code/w251/myrepo/chess_project/data/tiny/images/2021_07_07_09_35_20_PMframe53.jpeg\n",
      "cp  c:/prabhu/edu/code/w251/myrepo/chess_project/images/2021_07_07_09_36_50_PMframe58.jpeg c:/prabhu/edu/code/w251/myrepo/chess_project/data/tiny/images/2021_07_07_09_36_50_PMframe58.jpeg\n",
      "cp  c:/prabhu/edu/code/w251/myrepo/chess_project/images/2021_07_07_09_39_22_PMframe66.jpeg c:/prabhu/edu/code/w251/myrepo/chess_project/data/tiny/images/2021_07_07_09_39_22_PMframe66.jpeg\n",
      "cp  c:/prabhu/edu/code/w251/myrepo/chess_project/images/2021_07_07_09_39_27_PMframe67.jpeg c:/prabhu/edu/code/w251/myrepo/chess_project/data/tiny/images/2021_07_07_09_39_27_PMframe67.jpeg\n",
      "cp  c:/prabhu/edu/code/w251/myrepo/chess_project/images/2021_07_07_09_39_32_PMframe68.jpeg c:/prabhu/edu/code/w251/myrepo/chess_project/data/tiny/images/2021_07_07_09_39_32_PMframe68.jpeg\n",
      "cp  c:/prabhu/edu/code/w251/myrepo/chess_project/images/2021_07_07_09_39_35_PMframe69.jpeg c:/prabhu/edu/code/w251/myrepo/chess_project/data/tiny/images/2021_07_07_09_39_35_PMframe69.jpeg\n",
      "cp  c:/prabhu/edu/code/w251/myrepo/chess_project/images/2021_07_07_09_39_46_PMframe70.jpeg c:/prabhu/edu/code/w251/myrepo/chess_project/data/tiny/images/2021_07_07_09_39_46_PMframe70.jpeg\n",
      "cp  c:/prabhu/edu/code/w251/myrepo/chess_project/images/2021_07_07_09_41_00_PMframe73.jpeg c:/prabhu/edu/code/w251/myrepo/chess_project/data/tiny/images/2021_07_07_09_41_00_PMframe73.jpeg\n",
      "cp  c:/prabhu/edu/code/w251/myrepo/chess_project/images/2021_07_07_09_41_07_PMframe74.jpeg c:/prabhu/edu/code/w251/myrepo/chess_project/data/tiny/images/2021_07_07_09_41_07_PMframe74.jpeg\n",
      "cp  c:/prabhu/edu/code/w251/myrepo/chess_project/images/2021_07_07_09_41_16_PMframe75.jpeg c:/prabhu/edu/code/w251/myrepo/chess_project/data/tiny/images/2021_07_07_09_41_16_PMframe75.jpeg\n",
      "cp  c:/prabhu/edu/code/w251/myrepo/chess_project/images/2021_07_07_09_41_22_PMframe76.jpeg c:/prabhu/edu/code/w251/myrepo/chess_project/data/tiny/images/2021_07_07_09_41_22_PMframe76.jpeg\n",
      "cp  c:/prabhu/edu/code/w251/myrepo/chess_project/images/2021_07_07_09_47_17_PMframe107.jpeg c:/prabhu/edu/code/w251/myrepo/chess_project/data/tiny/images/2021_07_07_09_47_17_PMframe107.jpeg\n"
     ]
    }
   ],
   "source": [
    "for file in label_files:\n",
    "    file_name = file[0:len(file)-4] \n",
    "    if file_name in img_fie_noext :\n",
    "        shutil.copyfile(image_path + file_name + \".jpeg\", new_image_path +  file_name + \".jpeg\")\n",
    "        print(\"matched\",image_path + file_name + \".jpeg\")\n",
    "          \n",
    "    else: \n",
    "        print(\"cp \", (image_path + file_name + \".jpeg\" + \" \" + new_image_path +  file_name + \".jpeg\" ))"
   ]
  },
  {
   "cell_type": "code",
   "execution_count": null,
   "metadata": {},
   "outputs": [],
   "source": []
  }
 ],
 "metadata": {
  "kernelspec": {
   "display_name": "Python 3",
   "language": "python",
   "name": "python3"
  },
  "language_info": {
   "codemirror_mode": {
    "name": "ipython",
    "version": 3
   },
   "file_extension": ".py",
   "mimetype": "text/x-python",
   "name": "python",
   "nbconvert_exporter": "python",
   "pygments_lexer": "ipython3",
   "version": "3.8.3"
  }
 },
 "nbformat": 4,
 "nbformat_minor": 4
}
