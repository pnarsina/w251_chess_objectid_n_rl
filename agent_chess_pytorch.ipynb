{
 "cells": [
  {
   "cell_type": "code",
   "execution_count": 1,
   "metadata": {},
   "outputs": [],
   "source": [
    "import gym\n",
    "import time\n",
    "import math\n",
    "import random\n",
    "import numpy as np\n",
    "import matplotlib\n",
    "import matplotlib.pyplot as plt\n",
    "from collections import namedtuple, deque\n",
    "from itertools import count\n",
    "from PIL import Image\n",
    "\n",
    "import torch\n",
    "import torch.nn as nn\n",
    "import torch.optim as optim\n",
    "import torch.nn.functional as F\n",
    "import torchvision.transforms as T\n",
    "\n",
    "from gym_chess_env import ChessBoard_gym\n",
    "import wandb\n",
    "from onecyclelr import OneCycleLR\n",
    "from sklearn.preprocessing import MinMaxScaler\n"
   ]
  },
  {
   "cell_type": "code",
   "execution_count": 2,
   "metadata": {},
   "outputs": [
    {
     "name": "stderr",
     "output_type": "stream",
     "text": [
      "wandb: Currently logged in as: pnarsina (use `wandb login --relogin` to force relogin)\n",
      "wandb: wandb version 0.11.2 is available!  To upgrade, please run:\n",
      "wandb:  $ pip install wandb --upgrade\n"
     ]
    },
    {
     "data": {
      "text/html": [
       "\n",
       "                Tracking run with wandb version 0.10.32<br/>\n",
       "                Syncing run <strong style=\"color:#cdcd00\">noble-river-44</strong> to <a href=\"https://wandb.ai\" target=\"_blank\">Weights & Biases</a> <a href=\"https://docs.wandb.com/integrations/jupyter.html\" target=\"_blank\">(Documentation)</a>.<br/>\n",
       "                Project page: <a href=\"https://wandb.ai/pnarsina/w251-prabhu-final_chessproject-notebook\" target=\"_blank\">https://wandb.ai/pnarsina/w251-prabhu-final_chessproject-notebook</a><br/>\n",
       "                Run page: <a href=\"https://wandb.ai/pnarsina/w251-prabhu-final_chessproject-notebook/runs/3u9e8mo3\" target=\"_blank\">https://wandb.ai/pnarsina/w251-prabhu-final_chessproject-notebook/runs/3u9e8mo3</a><br/>\n",
       "                Run data is saved locally in <code>C:\\prabhu\\edu\\code\\w251\\myrepo\\chess_project\\wandb\\run-20210804_221809-3u9e8mo3</code><br/><br/>\n",
       "            "
      ],
      "text/plain": [
       "<IPython.core.display.HTML object>"
      ]
     },
     "metadata": {},
     "output_type": "display_data"
    },
    {
     "data": {
      "text/html": [
       "<h1>Run(3u9e8mo3)</h1><iframe src=\"https://wandb.ai/pnarsina/w251-prabhu-final_chessproject-notebook/runs/3u9e8mo3\" style=\"border:none;width:100%;height:400px\"></iframe>"
      ],
      "text/plain": [
       "<wandb.sdk.wandb_run.Run at 0x1c637f14670>"
      ]
     },
     "execution_count": 2,
     "metadata": {},
     "output_type": "execute_result"
    }
   ],
   "source": [
    "wandb.login()\n",
    "wandb.init(project=\"w251-prabhu-final_chessproject-notebook\")"
   ]
  },
  {
   "cell_type": "code",
   "execution_count": 3,
   "metadata": {},
   "outputs": [],
   "source": [
    "env = ChessBoard_gym()"
   ]
  },
  {
   "cell_type": "code",
   "execution_count": 4,
   "metadata": {},
   "outputs": [],
   "source": [
    "%matplotlib inline\n",
    "is_ipython = 'inline' in matplotlib.get_backend()\n",
    "if is_ipython:\n",
    "    from IPython import display\n",
    "\n",
    "plt.ion()"
   ]
  },
  {
   "cell_type": "code",
   "execution_count": 5,
   "metadata": {},
   "outputs": [],
   "source": [
    "device = torch.device(\"cuda\" if torch.cuda.is_available() else \"cpu\")"
   ]
  },
  {
   "cell_type": "code",
   "execution_count": 6,
   "metadata": {},
   "outputs": [],
   "source": [
    "Transition = namedtuple('Transition',\n",
    "                        ('state', 'action', 'next_state', 'reward'))\n",
    "scaler = MinMaxScaler()\n",
    "\n",
    "class ReplayMemory(object):\n",
    "\n",
    "    def __init__(self, capacity):\n",
    "        self.memory = deque([],maxlen=capacity)\n",
    "\n",
    "    def push(self, *args):\n",
    "        \"\"\"Save a transition\"\"\"\n",
    "        self.memory.append(Transition(*args))\n",
    "\n",
    "    def sample(self, batch_size):\n",
    "        return random.sample(self.memory, batch_size)\n",
    "\n",
    "    def __len__(self):\n",
    "        return len(self.memory)\n"
   ]
  },
  {
   "cell_type": "code",
   "execution_count": 7,
   "metadata": {},
   "outputs": [],
   "source": [
    "class DQN(nn.Module):\n",
    "\n",
    "    def __init__(self, h, w, outputs):\n",
    "        super(DQN, self).__init__()\n",
    "        self.fc1 = nn.DataParallel(nn.Linear(64, 128))\n",
    "        self.fc2 = nn.DataParallel(nn.Linear(128, 512))\n",
    "        self.fc3 = nn.DataParallel(nn.Linear(512, 256))\n",
    "        self.fc4 = nn.DataParallel(nn.Linear(256, 128))\n",
    "#         self.bn1 = nn.BatchNorm1d(128)\n",
    "#         self.conv1 = nn.Conv1d(16, 16, kernel_size=3, stride=1)\n",
    "#         self.bn1 = nn.BatchNorm1d(16)\n",
    "#         self.conv2 = nn.Conv1d(16, 32, kernel_size=5, stride=2)\n",
    "#         self.bn2 = nn.BatchNorm1d(32)\n",
    "#         self.conv3 = nn.Conv1d(32, 16, kernel_size=5, stride=2)\n",
    "#         self.bn3 = nn.BatchNorm1d(16)\n",
    "\n",
    "#         # Number of Linear input connections depends on output of conv2d layers\n",
    "#         # and therefore the input image size, so compute it.\n",
    "#         def conv2d_size_out(size, kernel_size = 5, stride = ):\n",
    "#             return (size - (kernel_size - 1) - 1) // stride  + 1\n",
    "        \n",
    "#         def conv1d_size_out(size, kernel_size = 5, stride = 2):\n",
    "#             return (size - (kernel_size - 1) - 1) // stride  + 1\n",
    "\n",
    "#         convw = conv2d_size_out(conv2d_size_out(conv2d_size_out(w)))\n",
    "#         convh = conv2d_size_out(conv2d_size_out(conv2d_size_out(h)))\n",
    "#         linear_input_size = convw * convh * 32\n",
    "        self.head = nn.DataParallel(nn.Linear(128, outputs))\n",
    "\n",
    "    # Called with either one element to determine next action, or a batch\n",
    "    # during optimization. Returns tensor([[left0exp,right0exp]...]).\n",
    "#     def forward(self, x):\n",
    "#         x = x.to(device)\n",
    "#         x = F.relu(self.conv1(x))\n",
    "# #         x = F.relu(self.bn1(self.conv1(x)))\n",
    "# #         x = F.relu(self.bn2(self.conv2(x)))\n",
    "# #         x = F.relu(self.bn3(self.conv3(x)))\n",
    "#         return self.head(x.view(x.size(0), -1))\n",
    "    def forward(self, x):\n",
    "        x = x.to(device)\n",
    "        x = F.relu(self.fc1(x))\n",
    "#         x = F.relu(self.bn1(self.conv1(x)))\n",
    "        x = F.relu(self.fc2(x))\n",
    "        x = F.relu(self.fc3(x))\n",
    "        x = F.relu(self.fc4(x))\n",
    "        return self.head(x.view(x.size(0), -1))"
   ]
  },
  {
   "cell_type": "code",
   "execution_count": 8,
   "metadata": {},
   "outputs": [
    {
     "name": "stdout",
     "output_type": "stream",
     "text": [
      "\n",
      "\n",
      "\n",
      "br1 - bn1 - bb1 - bq - bk - bb2 - bn2 - br2 -  \n",
      "\n",
      "bp1 - bp2 - bp3 - bp4 - bp5 - bp6 - bp7 - bp8 -  \n",
      "\n",
      "BL - BL - BL - BL - BL - BL - BL - BL -  \n",
      "\n",
      "BL - BL - BL - BL - BL - BL - BL - BL -  \n",
      "\n",
      "BL - BL - BL - BL - BL - BL - BL - BL -  \n",
      "\n",
      "BL - BL - BL - BL - BL - BL - BL - BL -  \n",
      "\n",
      "wp1 - wp2 - wp3 - wp4 - wp5 - wp6 - wp7 - wp8 -  \n",
      "\n",
      "wr1 - wn1 - wb1 - wq - wk - wb2 - wn2 - wr2 -  \n",
      "\n",
      "\n",
      "\n",
      "\n"
     ]
    }
   ],
   "source": [
    "env.reset()\n",
    "env.print_board()"
   ]
  },
  {
   "cell_type": "code",
   "execution_count": null,
   "metadata": {},
   "outputs": [],
   "source": []
  },
  {
   "cell_type": "code",
   "execution_count": 9,
   "metadata": {},
   "outputs": [],
   "source": [
    "# Chess Cells 8 x 8\n",
    "height = 8 \n",
    "width = 8\n",
    "n_actions = env.action_space.n\n",
    "# n_actions = 112\n",
    "BATCH_SIZE = 2048\n",
    "GAMMA = 0.999\n",
    "EPS_START = 1 \n",
    "EPS_END = 0.10\n",
    "EPS_DECAY = 800000\n",
    "TARGET_UPDATE = 10\n",
    "\n"
   ]
  },
  {
   "cell_type": "code",
   "execution_count": 10,
   "metadata": {},
   "outputs": [],
   "source": [
    "policy_net = DQN(height, width, n_actions).to(device)\n",
    "target_net = DQN(height, width, n_actions).to(device)\n",
    "# policy_net = DQN(n_actions).to(device)\n",
    "# target_net = DQN(n_actions).to(device)\n",
    "\n",
    "target_net.load_state_dict(policy_net.state_dict())\n",
    "target_net.eval()\n",
    "# optimizer = optim.RMSprop(policy_net.parameters())\n",
    "optimizer = optim.AdamW(policy_net.parameters(), lr=0.0001, betas=(0.9, 0.999), eps=1e-08, weight_decay=0.01, amsgrad=False)\n",
    "scheduler = optim.lr_scheduler.StepLR(optimizer, step_size=100)\n",
    "# optimizer = optim.AdamW(policy_net.parameters())\n",
    "# optimizer = optim.SGD(lr=0.0001 )\n",
    "memory = ReplayMemory(500000)"
   ]
  },
  {
   "cell_type": "code",
   "execution_count": 11,
   "metadata": {},
   "outputs": [],
   "source": [
    "def select_action(state):\n",
    "    global steps_done\n",
    "    \n",
    "    sample = random.random()\n",
    "    eps_threshold = EPS_END + (EPS_START - EPS_END) * \\\n",
    "        math.exp(-1. * steps_done / EPS_DECAY)\n",
    "    steps_done += 1\n",
    "    \n",
    "#     print(\"epsilon threshold:\", eps_threshold)\n",
    "    \n",
    "    if sample > eps_threshold:\n",
    "        with torch.no_grad():\n",
    "            # t.max(1) will return largest column value of each row.\n",
    "            # second column on max result is index of where max element was\n",
    "            # found, so we pick action with the larger expected reward.\n",
    "            return policy_net(state).max(1)[1].view(1, 1)\n",
    "    else:\n",
    "        return torch.tensor([[random.randrange(n_actions)]], device=device, dtype=torch.long)\n",
    "\n"
   ]
  },
  {
   "cell_type": "code",
   "execution_count": 12,
   "metadata": {},
   "outputs": [],
   "source": [
    "def plot_durations():\n",
    "    plt.figure(2)\n",
    "    plt.clf()\n",
    "    durations_t = torch.tensor(episode_durations, dtype=torch.float)\n",
    "    plt.title('Training...')\n",
    "    plt.xlabel('Episode')\n",
    "    plt.ylabel('Duration')\n",
    "    plt.plot(durations_t.numpy())\n",
    "    # Take 100 episode averages and plot them too\n",
    "    if len(durations_t) >= 100:\n",
    "        means = durations_t.unfold(0, 100, 1).mean(1).view(-1)\n",
    "        means = torch.cat((torch.zeros(99), means))\n",
    "#         plt.plot(means.numpy())\n",
    "\n",
    "#     plt.pause(0.5)  # pause a bit so that plots are updated\n",
    "#     if is_ipython:\n",
    "#         display.clear_output(wait=True)\n",
    "#         display.display(plt.gcf())"
   ]
  },
  {
   "cell_type": "code",
   "execution_count": 13,
   "metadata": {},
   "outputs": [],
   "source": [
    "def accuracy(output, target, topk=(1,)):\n",
    "    \"\"\"Computes the accuracy over the k top predictions for the specified values of k\"\"\"\n",
    "    maxk = max(topk)\n",
    "\n",
    "    pred = output \n",
    "    correct = pred.eq(target)\n",
    "\n",
    "    res = []\n",
    "    for k in topk:\n",
    "        correct_k = correct[:k].reshape(-1).float().sum(0, keepdim=True)\n",
    "        res.append(correct_k)\n",
    "    return res\n",
    "\n",
    "class AverageMeter(object):\n",
    "    \"\"\"Computes and stores the average and current value\"\"\"\n",
    "    def __init__(self, name, fmt=':f'):\n",
    "        self.name = name\n",
    "        self.fmt = fmt\n",
    "        self.reset()\n",
    "\n",
    "    def reset(self):\n",
    "        self.val = 0\n",
    "        self.avg = 0\n",
    "        self.sum = 0\n",
    "        self.count = 0\n",
    "\n",
    "    def update(self, val, n=1):\n",
    "        self.val = val\n",
    "        self.sum += val * n\n",
    "        self.count += n\n",
    "        self.avg = self.sum / self.count\n",
    "\n",
    "    def __str__(self):\n",
    "        fmtstr = '{name} {val' + self.fmt + '} ({avg' + self.fmt + '})'\n",
    "        return fmtstr.format(**self.__dict__)\n",
    "\n",
    "class ProgressMeter(object):\n",
    "    def __init__(self, num_batches, meters, prefix=\"\"):\n",
    "        self.batch_fmtstr = self._get_batch_fmtstr(num_batches)\n",
    "        self.meters = meters\n",
    "        self.prefix = prefix\n",
    "\n",
    "    def display(self, batch):\n",
    "        entries = [self.prefix + self.batch_fmtstr.format(batch)]\n",
    "        entries += [str(meter) for meter in self.meters]\n",
    "        print('\\t'.join(entries))\n",
    "\n",
    "    def _get_batch_fmtstr(self, num_batches):\n",
    "        num_digits = len(str(num_batches // 1))\n",
    "        fmt = '{:' + str(num_digits) + 'd}'\n",
    "        return '[' + fmt + '/' + fmt.format(num_batches) + ']'\n",
    "\n",
    "# In[13]:\n",
    "def save_checkpoint(state,  filename='checkpoint.pth.tar'):\n",
    "    # save the model state!\n",
    "    torch.save(state, filename)"
   ]
  },
  {
   "cell_type": "code",
   "execution_count": 14,
   "metadata": {},
   "outputs": [],
   "source": [
    "def optimize_model():\n",
    "    if len(memory) < BATCH_SIZE:\n",
    "        return(0,0,0)\n",
    "    transitions = memory.sample(BATCH_SIZE)\n",
    "\n",
    "    # Transpose the batch (see https://stackoverflow.com/a/19343/3343043 for\n",
    "    # detailed explanation). This converts batch-array of Transitions\n",
    "    # to Transition of batch-arrays.\n",
    "    batch = Transition(*zip(*transitions))\n",
    "\n",
    "    # Compute a mask of non-final states and concatenate the batch elements\n",
    "    # (a final state would've been the one after which simulation ended)\n",
    "    non_final_mask = torch.tensor(tuple(map(lambda s: s is not None,\n",
    "                                          batch.next_state)), device=device, dtype=torch.bool)\n",
    "  \n",
    "    non_final_next_states = torch.cat([s for s in batch.next_state\n",
    "                                                if s is not None])\n",
    "    state_batch = torch.cat(batch.state)\n",
    "    action_batch = torch.cat(batch.action)\n",
    "    reward_batch = torch.cat(batch.reward)\n",
    "\n",
    "    # Compute Q(s_t, a) - the model computes Q(s_t), then we select the\n",
    "    # columns of actions taken. These are the actions which would've been taken\n",
    "    # for each batch state according to policy_net\n",
    "    state_action_values = policy_net(state_batch).gather(1, action_batch)\n",
    "\n",
    "    # Compute V(s_{t+1}) for all next states.\n",
    "    # Expected values of actions for non_final_next_states are computed based\n",
    "    # on the \"older\" target_net; selecting their best reward with max(1)[0].\n",
    "    # This is merged based on the mask, such that we'll have either the expected\n",
    "    # state value or 0 in case the state was final.\n",
    "    next_state_values = torch.zeros(BATCH_SIZE, device=device)\n",
    "    next_state_values[non_final_mask] = target_net(non_final_next_states).max(1)[0].detach()\n",
    "    # Compute the expected Q values\n",
    "    expected_state_action_values = (next_state_values * GAMMA) + reward_batch\n",
    "\n",
    "    # Compute Huber loss\n",
    "    criterion = nn.SmoothL1Loss()\n",
    "    loss = criterion(state_action_values, expected_state_action_values.unsqueeze(1))\n",
    "    acc1, acc5 = accuracy(state_action_values,  expected_state_action_values.unsqueeze(1), topk=(1, 5)) \n",
    "   # print('accuracies ', acc1, \" \", acc5)\n",
    "    # Optimize the model\n",
    "    optimizer.zero_grad()\n",
    "    loss.backward()\n",
    "    for param in policy_net.parameters():\n",
    "        param.grad.data.clamp_(-1, 1)\n",
    "    optimizer.step()\n",
    "\n",
    "    return (loss,acc1,acc5)"
   ]
  },
  {
   "cell_type": "code",
   "execution_count": null,
   "metadata": {},
   "outputs": [
    {
     "name": "stderr",
     "output_type": "stream",
     "text": [
      "C:\\ProgramData\\Anaconda3\\lib\\site-packages\\torch\\optim\\lr_scheduler.py:131: UserWarning: Detected call of `lr_scheduler.step()` before `optimizer.step()`. In PyTorch 1.1.0 and later, you should call them in the opposite order: `optimizer.step()` before `lr_scheduler.step()`.  Failure to do this will result in PyTorch skipping the first value of the learning rate schedule. See more details at https://pytorch.org/docs/stable/optim.html#how-to-adjust-learning-rate\n",
      "  warnings.warn(\"Detected call of `lr_scheduler.step()` before `optimizer.step()`. \"\n"
     ]
    },
    {
     "name": "stdout",
     "output_type": "stream",
     "text": [
      "loss of the episode  0  is : tensor(10.1011, device='cuda:0', grad_fn=<AddBackward0>)  acc1: tensor([0.], device='cuda:0') acc5: tensor([0.], device='cuda:0')  Batch size: 2048  Memory size: 2441 reward mean: -2041.0\n"
     ]
    }
   ],
   "source": [
    "num_episodes = 100\n",
    "steps_done = 0\n",
    "observation_space = 64\n",
    "episode_durations = []\n",
    "rewards_list = []\n",
    "for i_episode in range(num_episodes):\n",
    "    reward_for_episode = 0\n",
    "    batch_time = AverageMeter('Time', ':6.3f')\n",
    "    data_time = AverageMeter('Data', ':6.3f')\n",
    "    losses = AverageMeter('Loss', ':.4e')\n",
    "    top1 = AverageMeter('Acc@1', ':6.2f')\n",
    "    top5 = AverageMeter('Acc@5', ':6.2f')\n",
    "    progress = ProgressMeter(\n",
    "        len(memory),\n",
    "        [batch_time, data_time, losses, top1, top5],\n",
    "        prefix=\"Epoch: [{}]\".format(i_episode))\n",
    "\n",
    "    # Initialize the environment and state\n",
    "    state = env.reset()\n",
    "    scaler.fit(state)\n",
    "    state = scaler.transform(state)\n",
    "        \n",
    "    state = torch.from_numpy(state).float()\n",
    "    total_loss = 0\n",
    "    loss = 0\n",
    "    t=0\n",
    "    scheduler.step()\n",
    "    end = time.time()\n",
    "    legal_move_count=0\n",
    "    tot_acc1 = 0\n",
    "    tot_acc5 = 0\n",
    "    while True:\n",
    "   \n",
    "        # Select and perform an action\n",
    "#         state_model_input = np.reshape(state, state.shape + (1,)) \n",
    "        state_model_input = torch.reshape(state, [1, observation_space])\n",
    "        \n",
    "        action = select_action(state_model_input)\n",
    "        next_state, reward, done, info = env.step(action.item())\n",
    "        \n",
    "        reward_for_episode += reward\n",
    "        reward = torch.tensor([reward], device=device)\n",
    "\n",
    "        \n",
    "       \n",
    "        # Store the transition in memory\n",
    "        scaler.fit(next_state)\n",
    "        state = scaler.transform(next_state)\n",
    "        next_state = torch.from_numpy(next_state).float()\n",
    "        \n",
    "        \n",
    "#         next_state_model_input = np.reshape(next_state, next_state.shape + (1,)) \n",
    "        next_state_model_input = torch.reshape(next_state, [1, observation_space])\n",
    "       \n",
    " \n",
    "        memory.push(state_model_input, action, next_state_model_input, reward)\n",
    "\n",
    "        # Move to the next state\n",
    "        state = next_state\n",
    "\n",
    "        # Perform one step of the optimization (on the policy network)\n",
    "        loss, acc1, acc5 = optimize_model()\n",
    "\n",
    "\n",
    "        if loss is not None: \n",
    "            total_loss = total_loss + loss\n",
    "            tot_acc1 = tot_acc1 + acc1\n",
    "            tot_acc5 = tot_acc5 + acc5\n",
    "\n",
    "            # measure elapsed time\n",
    "        batch_time.update(time.time() - end)\n",
    "        end = time.time()\n",
    "        \n",
    "        if done:\n",
    "            legal_move_count += 1\n",
    "\n",
    "        if legal_move_count >=200:\n",
    "            episode_durations.append(t + 1)\n",
    "            t+=1\n",
    "\n",
    "            if loss is not None: \n",
    "                total_loss = total_loss + loss\n",
    "                losses.update(total_loss, BATCH_SIZE)\n",
    "                top1.update(tot_acc1,  BATCH_SIZE)\n",
    "                top5.update(tot_acc5, BATCH_SIZE)\n",
    "            #plot_durations()\n",
    "            break\n",
    "            \n",
    "    # Update the target network, copying all weights and biases in DQN\n",
    "    rewards_list.append(reward_for_episode)\n",
    "    last_rewards_mean = np.mean(rewards_list[-50:])\n",
    "    print (\"loss of the episode \", i_episode , \" is :\", total_loss, \" acc1:\", tot_acc1, \"acc5:\", tot_acc5, \" Batch size:\",BATCH_SIZE , \" Memory size:\", len(memory), \"reward mean:\", last_rewards_mean)\n",
    "    wandb.log({\"Loss/val\": losses.avg, 'acc1/val': top1.avg, 'acc5/val': top5.avg})\n",
    "\n",
    "    if i_episode % TARGET_UPDATE == 0:\n",
    "        target_net.load_state_dict(policy_net.state_dict())\n",
    "\n",
    "save_checkpoint({\n",
    "   'epoch': num_episodes,\n",
    "   'arch': 'DQN',\n",
    "   'state_dict': target_net.state_dict(),\n",
    "   'optimizer' : optimizer.state_dict(),\n",
    "    })\n",
    "\n",
    "print('Complete')\n",
    "# env.render()\n",
    "# env.close()\n",
    "# plt.ioff()\n",
    "# plt.show()"
   ]
  },
  {
   "cell_type": "code",
   "execution_count": null,
   "metadata": {},
   "outputs": [],
   "source": [
    "from onecyclelr import OneCycleLR\n",
    "\n",
    "# optimizer = torch.optim.SGD(model.parameters(), lr=0.1, momentum=0.9)\n",
    "scheduler = OneCycleLR(optimizer, num_steps=num_steps, lr_range=(0.1, 1.))\n",
    "for epoch in range(epochs):\n",
    "    for step, X in enumerate(train_dataloader):\n",
    "        train(...) \n",
    "        scheduler.step()"
   ]
  },
  {
   "cell_type": "code",
   "execution_count": null,
   "metadata": {},
   "outputs": [],
   "source": []
  },
  {
   "cell_type": "markdown",
   "metadata": {},
   "source": [
    "## TESTING CODE BELOW"
   ]
  },
  {
   "cell_type": "code",
   "execution_count": 52,
   "metadata": {},
   "outputs": [
    {
     "data": {
      "text/plain": [
       "119415"
      ]
     },
     "execution_count": 52,
     "metadata": {},
     "output_type": "execute_result"
    }
   ],
   "source": [
    "len(memory)"
   ]
  },
  {
   "cell_type": "code",
   "execution_count": 53,
   "metadata": {},
   "outputs": [],
   "source": [
    "transitions = memory.sample(BATCH_SIZE)"
   ]
  },
  {
   "cell_type": "code",
   "execution_count": null,
   "metadata": {},
   "outputs": [],
   "source": [
    "batch = Transition(*zip(*transitions))"
   ]
  },
  {
   "cell_type": "code",
   "execution_count": null,
   "metadata": {},
   "outputs": [],
   "source": [
    "non_final_mask = torch.tensor(tuple(map(lambda s: s is not None,\n",
    "                                          batch.next_state)), device=device, dtype=torch.bool)"
   ]
  },
  {
   "cell_type": "code",
   "execution_count": null,
   "metadata": {},
   "outputs": [],
   "source": [
    "len(non_final_mask), non_final_mask"
   ]
  },
  {
   "cell_type": "code",
   "execution_count": null,
   "metadata": {},
   "outputs": [],
   "source": [
    "non_final_next_states = torch.cat([s for s in batch.next_state\n",
    "                                                if s is not None])"
   ]
  },
  {
   "cell_type": "code",
   "execution_count": null,
   "metadata": {},
   "outputs": [],
   "source": [
    "non_final_next_states[0]"
   ]
  },
  {
   "cell_type": "code",
   "execution_count": null,
   "metadata": {},
   "outputs": [],
   "source": [
    "    state_batch = torch.cat(batch.state)\n",
    "    action_batch = torch.cat(batch.action)\n",
    "    reward_batch = torch.cat(batch.reward)"
   ]
  },
  {
   "cell_type": "code",
   "execution_count": null,
   "metadata": {},
   "outputs": [],
   "source": [
    "reward_batch[reward_batch[:]==1]"
   ]
  },
  {
   "cell_type": "code",
   "execution_count": null,
   "metadata": {},
   "outputs": [],
   "source": [
    "state_action_values = policy_net(state_batch).gather(1, action_batch)"
   ]
  },
  {
   "cell_type": "code",
   "execution_count": null,
   "metadata": {},
   "outputs": [],
   "source": [
    "state_action_values"
   ]
  },
  {
   "cell_type": "code",
   "execution_count": null,
   "metadata": {},
   "outputs": [],
   "source": [
    "next_state_values = torch.zeros(BATCH_SIZE, device=device)\n",
    "next_state_values[non_final_mask] = target_net(non_final_next_states).max(1)[0].detach()\n",
    "    # Compute the expected Q values\n",
    "len(next_state_values), next_state_values[100:200]"
   ]
  },
  {
   "cell_type": "code",
   "execution_count": null,
   "metadata": {},
   "outputs": [],
   "source": [
    "expected_state_action_values = (next_state_values * GAMMA) + reward_batch\n",
    "expected_state_action_values"
   ]
  },
  {
   "cell_type": "code",
   "execution_count": null,
   "metadata": {},
   "outputs": [],
   "source": [
    "criterion = nn.SmoothL1Loss()\n",
    "loss = criterion(state_action_values, expected_state_action_values.unsqueeze(1))\n",
    "acc1, acc5 = accuracy(state_action_values,  expected_state_action_values.unsqueeze(1), topk=(1, 5)) "
   ]
  },
  {
   "cell_type": "code",
   "execution_count": null,
   "metadata": {},
   "outputs": [],
   "source": [
    "loss, acc1, acc5"
   ]
  },
  {
   "cell_type": "code",
   "execution_count": 35,
   "metadata": {},
   "outputs": [],
   "source": [
    "test_chess_pos = [[1.,  0.,  0.,  0.,  0.,  0.,  0.,  8.,  0., 0., 0., 0., 0.,  0.,\n",
    "        0., 0.,  0.,  0.,  0.,  0.,  0., 0.,  0.,  0.,  0.,  0.,  0.,  0.,\n",
    "         0.,  0.,  0.,  0.,  0.,  0.,  0.,  0.,  0.,  0.,  0.,  0.,  0., 0.,\n",
    "         0.,  0.,  0.,  0.,  0.,  0., 0.,  0., 0., 0., 0., 0., 0., 0.,\n",
    "        0., 0., 0., 0., 0., 0., 0., 0.]]"
   ]
  },
  {
   "cell_type": "code",
   "execution_count": 36,
   "metadata": {},
   "outputs": [],
   "source": [
    "tensor_pos = torch.tensor(test_chess_pos)"
   ]
  },
  {
   "cell_type": "code",
   "execution_count": 37,
   "metadata": {},
   "outputs": [],
   "source": [
    "next_pos = target_net(tensor_pos).detach()"
   ]
  },
  {
   "cell_type": "code",
   "execution_count": 38,
   "metadata": {},
   "outputs": [
    {
     "data": {
      "text/plain": [
       "tensor([[-0.3066,  0.2115, -0.4388, -0.1213,  0.0079, -0.1712,  0.0113,  0.6572,\n",
       "         -0.1239,  0.0122,  0.1557,  0.4796, -0.1617,  0.0660,  0.0131,  0.0111,\n",
       "          0.1753,  0.0114, -0.0105, -0.2700,  0.0644,  0.2545,  0.5639,  0.1263,\n",
       "         -0.0946, -0.0070, -0.0598, -0.1888,  0.0090,  0.2693,  0.0326, -0.2249,\n",
       "         -0.0916,  0.0275,  0.1161,  2.0285, -0.2500,  0.1548,  0.0123,  0.3809,\n",
       "          0.2924, -0.0916,  0.0192,  0.0128, -0.0212, -0.2283,  0.0116, -0.3731,\n",
       "         -0.3400,  2.0707,  0.3080,  0.4379,  0.0141,  0.0080,  0.1105,  0.0111]],\n",
       "       device='cuda:0')"
      ]
     },
     "execution_count": 38,
     "metadata": {},
     "output_type": "execute_result"
    }
   ],
   "source": [
    "next_pos"
   ]
  },
  {
   "cell_type": "code",
   "execution_count": 39,
   "metadata": {},
   "outputs": [
    {
     "data": {
      "text/plain": [
       "tensor(49, device='cuda:0')"
      ]
     },
     "execution_count": 39,
     "metadata": {},
     "output_type": "execute_result"
    }
   ],
   "source": [
    "x = target_net(tensor_pos).argmax(1)[0].detach()\n",
    "x"
   ]
  },
  {
   "cell_type": "code",
   "execution_count": 41,
   "metadata": {},
   "outputs": [
    {
     "data": {
      "text/plain": [
       "[8, 3, 1]"
      ]
     },
     "execution_count": 41,
     "metadata": {},
     "output_type": "execute_result"
    }
   ],
   "source": [
    "next_action = env.complete_actions_list[x]\n",
    "next_action"
   ]
  },
  {
   "cell_type": "code",
   "execution_count": 42,
   "metadata": {},
   "outputs": [],
   "source": [
    "# transitions"
   ]
  },
  {
   "cell_type": "code",
   "execution_count": 44,
   "metadata": {},
   "outputs": [
    {
     "name": "stdout",
     "output_type": "stream",
     "text": [
      "(array([[0., 0., 0., 0., 0., 0., 0., 0.],\n",
      "       [0., 0., 0., 0., 0., 0., 0., 0.],\n",
      "       [0., 0., 0., 0., 0., 0., 0., 0.],\n",
      "       [1., 0., 0., 0., 0., 0., 8., 0.],\n",
      "       [0., 0., 0., 0., 0., 0., 0., 0.],\n",
      "       [0., 0., 0., 0., 0., 0., 0., 0.],\n",
      "       [0., 0., 0., 0., 0., 0., 0., 0.],\n",
      "       [0., 0., 0., 0., 0., 0., 0., 0.]]), 1, True, [])\n"
     ]
    }
   ],
   "source": [
    "print(env.step(x))"
   ]
  },
  {
   "cell_type": "code",
   "execution_count": null,
   "metadata": {},
   "outputs": [],
   "source": []
  }
 ],
 "metadata": {
  "kernelspec": {
   "display_name": "Python 3",
   "language": "python",
   "name": "python3"
  },
  "language_info": {
   "codemirror_mode": {
    "name": "ipython",
    "version": 3
   },
   "file_extension": ".py",
   "mimetype": "text/x-python",
   "name": "python",
   "nbconvert_exporter": "python",
   "pygments_lexer": "ipython3",
   "version": "3.8.3"
  }
 },
 "nbformat": 4,
 "nbformat_minor": 4
}
